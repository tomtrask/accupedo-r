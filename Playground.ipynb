{
 "cells": [
  {
   "cell_type": "code",
   "execution_count": 1,
   "metadata": {},
   "outputs": [],
   "source": [
    "\"\"\"\n",
    "Let's...do accupedo.r but do it all in pandas without that fancy\n",
    "intermediate table michigas...giggity...\n",
    "\"\"\"\n",
    "\n",
    "import numpy as np\n",
    "import pandas as pd\n",
    "import sqlite3 as lite\n",
    "import datetime\n",
    "\n",
    "WORK_DB_ = \"work/Accupedo.db\"\n",
    "\n",
    "conn = lite.connect(WORK_DB_)\n"
   ]
  },
  {
   "cell_type": "code",
   "execution_count": 2,
   "metadata": {
    "scrolled": true
   },
   "outputs": [],
   "source": [
    "def get_aggregate_stats(conn):\n",
    "    df = pd.read_sql_query(\"select * from diaries\", conn)\n",
    "    df.drop(columns=[\"lap\", \"lapsteps\", \"lapdistance\", \"lapcalories\",\n",
    "                     \"lapsteptime\", \"distance\", \"calories\", \"speed\", \"pace\",\n",
    "                     \"achievement\"], inplace=True)\n",
    "\n",
    "    df[\"ymdhm\"] = 100*(100*(100*(100*df[\"year\"]+df[\"month\"])+df[\"day\"])\n",
    "                       + df[\"hour\"])+df[\"minute\"]\n",
    "    df[\"ymd\"] = 100*(100*df[\"year\"]+df[\"month\"])+df[\"day\"]\n",
    "\n",
    "    df.set_index(\"ymdhm\")\n",
    "    df.drop(columns=[\"_id\"], inplace=True)\n",
    "\n",
    "    df[\"del_steps\"] = df[\"steps\"] - df.shift(1)[\"steps\"]\n",
    "    df[\"del_time_min\"] = (df[\"steptime\"] - df.shift(1)[\"steptime\"])/60000\n",
    "    df[\"miia_steps\"] = df[\"del_steps\"].copy()\n",
    "    df[\"miia_time_min\"] = df[\"del_time_min\"].copy()\n",
    "\n",
    "    # steps reset at midnight so we need to drop the first interval of the day\n",
    "    df.drop(df[df.del_steps<=0].index, inplace=True)\n",
    "\n",
    "    df.drop(columns=[\"year\", \"month\", \"day\", \"hour\", \"minute\", \"steps\",\n",
    "                     \"steptime\"], inplace=True)\n",
    "\n",
    "    match_not_fast = df[df[\"del_steps\"]/df[\"del_time_min\"] < 125].index\n",
    "    df.loc[match_not_fast, \"miia_steps\"] = 0\n",
    "    df.loc[match_not_fast, \"miia_time_min\"] = 0\n",
    "\n",
    "    match_too_small = df[df[\"del_time_min\"] < 1].index\n",
    "    df.loc[match_too_small, \"miia_steps\"] = 0\n",
    "    df.loc[match_too_small, \"miia_time_min\"] = 0\n",
    "   \n",
    "    df.drop(columns=[\"ymdhm\"], inplace=True)\n",
    "    df.dropna(inplace=True)\n",
    "\n",
    "    redis = df.groupby(\"ymd\").sum()\n",
    "    # recompute pace as aggregate pace for group\n",
    "    redis[\"pace\"] = redis[\"del_steps\"]/redis[\"del_time_min\"]\n",
    "    redis[\"miia_pace\"] = redis[\"miia_steps\"]/redis[\"miia_time_min\"]\n",
    "\n",
    "    return redis\n"
   ]
  },
  {
   "cell_type": "code",
   "execution_count": 9,
   "metadata": {},
   "outputs": [
    {
     "name": "stdout",
     "output_type": "stream",
     "text": [
      "          del_steps  del_time_min  miia_steps  miia_time_min        pace  \\\n",
      "ymd                                                                        \n",
      "20180220    16136.0    136.724183      6755.0      49.454750  118.018624   \n",
      "20180221    11982.0    100.715283      7952.0      59.715917  118.969034   \n",
      "20180222    17145.0    136.014400     14185.0     107.393550  126.052830   \n",
      "20180223    15049.0    122.059317      6924.0      52.320150  123.292514   \n",
      "20180224    12212.0     99.959150      6952.0      51.653533  122.169906   \n",
      "20180225    22446.0    194.752200      6519.0      47.226700  115.254154   \n",
      "20180226    12417.0    103.567017      7137.0      52.028750  119.893383   \n",
      "\n",
      "           miia_pace  \n",
      "ymd                   \n",
      "20180220  136.589509  \n",
      "20180221  133.163827  \n",
      "20180222  132.084283  \n",
      "20180223  132.339070  \n",
      "20180224  134.589050  \n",
      "20180225  138.036323  \n",
      "20180226  137.174159  \n",
      "Days since zero: 91\n"
     ]
    },
    {
     "data": {
      "image/png": "[encoded data removed]",
      "text/plain": [
       "<matplotlib.figure.Figure at 0x10af83f28>"
      ]
     },
     "metadata": {},
     "output_type": "display_data"
    }
   ],
   "source": [
    "def show_graph(universe_frame):\n",
    "    \"\"\"Show our standard sharpe vs volatility scatter plot\"\"\"\n",
    "    universe_frame[['miia_steps', 'del_steps']].plot(kind=\"scatter\", x=\"del_steps\",\n",
    "                                                     y=\"miia_steps\", label=\"Symbol\")\n",
    "    # plt.show(block=True)\n",
    "    # plt.show()\n",
    "\n",
    "result = get_aggregate_stats(conn)\n",
    "print(result.tail(7))\n",
    "\n",
    "show_graph(result.iloc[-365:])\n",
    "\n",
    "last_zero_date = result[result[\"miia_steps\"] == 0].index[-1]\n",
    "since_then = result[result.index > last_zero_date]\n",
    "days_since_zero = len(since_then.index)\n",
    "print(\"Days since zero: {0}\".format(days_since_zero))"
   ]
  },
  {
   "cell_type": "code",
   "execution_count": null,
   "metadata": {},
   "outputs": [],
   "source": []
  }
 ],
 "metadata": {
  "kernelspec": {
   "display_name": "Python 3",
   "language": "python",
   "name": "python3"
  },
  "language_info": {
   "codemirror_mode": {
    "name": "ipython",
    "version": 3
   },
   "file_extension": ".py",
   "mimetype": "text/x-python",
   "name": "python",
   "nbconvert_exporter": "python",
   "pygments_lexer": "ipython3",
   "version": "3.6.4"
  }
 },
 "nbformat": 4,
 "nbformat_minor": 2
}
